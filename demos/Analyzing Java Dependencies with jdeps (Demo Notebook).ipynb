{
 "cells": [
  {
   "cell_type": "markdown",
   "metadata": {},
   "source": [
    "# Questions\n",
    "\n",
    "* Which types / classes have unwanted dependencies in our code?\n",
    "* Which group of types / classes is highly cohesive but lowly coupled?"
   ]
  },
  {
   "cell_type": "markdown",
   "metadata": {
    "slideshow": {
     "slide_type": "slide"
    }
   },
   "source": [
    "# Idea\n",
    "\n",
    "Using JDK's `jdeps` command line utility, we can extract the existing dependencies between Java types:\n",
    "\n",
    "```bash\n",
    "jdeps -v dropover-classes.jar > jdeps.txt\n",
    "```"
   ]
  },
  {
   "cell_type": "markdown",
   "metadata": {
    "slideshow": {
     "slide_type": "slide"
    }
   },
   "source": [
    "# Data\n",
    "Read data in with <b>O</b>pen <b>Z</b>ippy <b>A</b>nalysis <b>P</b>latform <b>F</b>or <b>D</b>ata <b>I</b>n <b>S</b>oftware"
   ]
  },
  {
   "cell_type": "code",
   "execution_count": 1,
   "metadata": {
    "slideshow": {
     "slide_type": "-"
    }
   },
   "outputs": [
    {
     "data": {
      "text/html": [
       "<div>\n",
       "<style scoped>\n",
       "    .dataframe tbody tr th:only-of-type {\n",
       "        vertical-align: middle;\n",
       "    }\n",
       "\n",
       "    .dataframe tbody tr th {\n",
       "        vertical-align: top;\n",
       "    }\n",
       "\n",
       "    .dataframe thead th {\n",
       "        text-align: right;\n",
       "    }\n",
       "</style>\n",
       "<table border=\"1\" class=\"dataframe\">\n",
       "  <thead>\n",
       "    <tr style=\"text-align: right;\">\n",
       "      <th></th>\n",
       "      <th>raw</th>\n",
       "      <th>from</th>\n",
       "      <th>to</th>\n",
       "      <th>type</th>\n",
       "    </tr>\n",
       "  </thead>\n",
       "  <tbody>\n",
       "    <tr>\n",
       "      <th>0</th>\n",
       "      <td>at.dropover.comment.boundary.AddCommentRequ...</td>\n",
       "      <td>at.dropover.comment.boundary.AddCommentRequest...</td>\n",
       "      <td>at.dropover.framework.boundary.SiteDependentRe...</td>\n",
       "      <td>dropover</td>\n",
       "    </tr>\n",
       "    <tr>\n",
       "      <th>1</th>\n",
       "      <td>at.dropover.comment.boundary.ChangeCommentR...</td>\n",
       "      <td>at.dropover.comment.boundary.ChangeCommentRequ...</td>\n",
       "      <td>at.dropover.framework.boundary.SiteDependentRe...</td>\n",
       "      <td>dropover</td>\n",
       "    </tr>\n",
       "    <tr>\n",
       "      <th>2</th>\n",
       "      <td>at.dropover.comment.boundary.CommentData   ...</td>\n",
       "      <td>at.dropover.comment.boundary.CommentData</td>\n",
       "      <td>at.dropover.comment.boundary.TimeDiffResponseM...</td>\n",
       "      <td>dropover</td>\n",
       "    </tr>\n",
       "    <tr>\n",
       "      <th>3</th>\n",
       "      <td>at.dropover.comment.boundary.CommentData   ...</td>\n",
       "      <td>at.dropover.comment.boundary.CommentData</td>\n",
       "      <td>at.dropover.framework.boundary.ResponseModel</td>\n",
       "      <td>dropover</td>\n",
       "    </tr>\n",
       "    <tr>\n",
       "      <th>4</th>\n",
       "      <td>at.dropover.comment.boundary.GetCommentRequ...</td>\n",
       "      <td>at.dropover.comment.boundary.GetCommentRequest...</td>\n",
       "      <td>at.dropover.framework.boundary.SiteDependentRe...</td>\n",
       "      <td>dropover</td>\n",
       "    </tr>\n",
       "  </tbody>\n",
       "</table>\n",
       "</div>"
      ],
      "text/plain": [
       "                                                 raw  \\\n",
       "0     at.dropover.comment.boundary.AddCommentRequ...   \n",
       "1     at.dropover.comment.boundary.ChangeCommentR...   \n",
       "2     at.dropover.comment.boundary.CommentData   ...   \n",
       "3     at.dropover.comment.boundary.CommentData   ...   \n",
       "4     at.dropover.comment.boundary.GetCommentRequ...   \n",
       "\n",
       "                                                from  \\\n",
       "0  at.dropover.comment.boundary.AddCommentRequest...   \n",
       "1  at.dropover.comment.boundary.ChangeCommentRequ...   \n",
       "2           at.dropover.comment.boundary.CommentData   \n",
       "3           at.dropover.comment.boundary.CommentData   \n",
       "4  at.dropover.comment.boundary.GetCommentRequest...   \n",
       "\n",
       "                                                  to      type  \n",
       "0  at.dropover.framework.boundary.SiteDependentRe...  dropover  \n",
       "1  at.dropover.framework.boundary.SiteDependentRe...  dropover  \n",
       "2  at.dropover.comment.boundary.TimeDiffResponseM...  dropover  \n",
       "3       at.dropover.framework.boundary.ResponseModel  dropover  \n",
       "4  at.dropover.framework.boundary.SiteDependentRe...  dropover  "
      ]
     },
     "execution_count": 1,
     "metadata": {},
     "output_type": "execute_result"
    }
   ],
   "source": [
    "from ozapfdis import jdeps\n",
    "\n",
    "deps = jdeps.read_jdeps_file(\n",
    "    \"../datasets/jdeps_dropover.txt\",\n",
    "    filter_regex=\"at.dropover\")\n",
    "deps.head()"
   ]
  },
  {
   "cell_type": "markdown",
   "metadata": {
    "slideshow": {
     "slide_type": "slide"
    }
   },
   "source": [
    "# Modeling\n",
    "Extract the information about existing modules based on path naming conventions"
   ]
  },
  {
   "cell_type": "code",
   "execution_count": 2,
   "metadata": {
    "slideshow": {
     "slide_type": "-"
    }
   },
   "outputs": [
    {
     "data": {
      "text/html": [
       "<div>\n",
       "<style scoped>\n",
       "    .dataframe tbody tr th:only-of-type {\n",
       "        vertical-align: middle;\n",
       "    }\n",
       "\n",
       "    .dataframe tbody tr th {\n",
       "        vertical-align: top;\n",
       "    }\n",
       "\n",
       "    .dataframe thead th {\n",
       "        text-align: right;\n",
       "    }\n",
       "</style>\n",
       "<table border=\"1\" class=\"dataframe\">\n",
       "  <thead>\n",
       "    <tr style=\"text-align: right;\">\n",
       "      <th></th>\n",
       "      <th>from</th>\n",
       "      <th>to</th>\n",
       "      <th>group_from</th>\n",
       "      <th>group_to</th>\n",
       "    </tr>\n",
       "  </thead>\n",
       "  <tbody>\n",
       "    <tr>\n",
       "      <th>0</th>\n",
       "      <td>at.dropover.comment.boundary.AddCommentRequest...</td>\n",
       "      <td>at.dropover.framework.boundary.SiteDependentRe...</td>\n",
       "      <td>comment</td>\n",
       "      <td>framework</td>\n",
       "    </tr>\n",
       "    <tr>\n",
       "      <th>1</th>\n",
       "      <td>at.dropover.comment.boundary.ChangeCommentRequ...</td>\n",
       "      <td>at.dropover.framework.boundary.SiteDependentRe...</td>\n",
       "      <td>comment</td>\n",
       "      <td>framework</td>\n",
       "    </tr>\n",
       "    <tr>\n",
       "      <th>2</th>\n",
       "      <td>at.dropover.comment.boundary.CommentData</td>\n",
       "      <td>at.dropover.comment.boundary.TimeDiffResponseM...</td>\n",
       "      <td>comment</td>\n",
       "      <td>comment</td>\n",
       "    </tr>\n",
       "    <tr>\n",
       "      <th>3</th>\n",
       "      <td>at.dropover.comment.boundary.CommentData</td>\n",
       "      <td>at.dropover.framework.boundary.ResponseModel</td>\n",
       "      <td>comment</td>\n",
       "      <td>framework</td>\n",
       "    </tr>\n",
       "    <tr>\n",
       "      <th>4</th>\n",
       "      <td>at.dropover.comment.boundary.GetCommentRequest...</td>\n",
       "      <td>at.dropover.framework.boundary.SiteDependentRe...</td>\n",
       "      <td>comment</td>\n",
       "      <td>framework</td>\n",
       "    </tr>\n",
       "  </tbody>\n",
       "</table>\n",
       "</div>"
      ],
      "text/plain": [
       "                                                from  \\\n",
       "0  at.dropover.comment.boundary.AddCommentRequest...   \n",
       "1  at.dropover.comment.boundary.ChangeCommentRequ...   \n",
       "2           at.dropover.comment.boundary.CommentData   \n",
       "3           at.dropover.comment.boundary.CommentData   \n",
       "4  at.dropover.comment.boundary.GetCommentRequest...   \n",
       "\n",
       "                                                  to group_from   group_to  \n",
       "0  at.dropover.framework.boundary.SiteDependentRe...    comment  framework  \n",
       "1  at.dropover.framework.boundary.SiteDependentRe...    comment  framework  \n",
       "2  at.dropover.comment.boundary.TimeDiffResponseM...    comment    comment  \n",
       "3       at.dropover.framework.boundary.ResponseModel    comment  framework  \n",
       "4  at.dropover.framework.boundary.SiteDependentRe...    comment  framework  "
      ]
     },
     "execution_count": 2,
     "metadata": {},
     "output_type": "execute_result"
    }
   ],
   "source": [
    "deps = deps[['from', 'to']]\n",
    "deps['group_from'] = deps['from'].str.split(\".\").str[2]\n",
    "deps['group_to'] = deps['to'].str.split(\".\").str[2]\n",
    "deps.head()"
   ]
  },
  {
   "cell_type": "markdown",
   "metadata": {
    "slideshow": {
     "slide_type": "slide"
    }
   },
   "source": [
    "# Visualization\n",
    "Output results with <b>A</b>n <b>U</b>nified <b>S</b>oftware <b>I</b>ntegrator"
   ]
  },
  {
   "cell_type": "code",
   "execution_count": 6,
   "metadata": {
    "slideshow": {
     "slide_type": "-"
    }
   },
   "outputs": [
    {
     "name": "stdout",
     "output_type": "stream",
     "text": [
      "JSON file produced in '/c/dev/repos/sas2020mh/demos/jdeps_demo_output/dropover_d3forced.json'\n",
      "HTML file produced in '/c/dev/repos/sas2020mh/demos/jdeps_demo_output/dropover_d3forced.html'\n"
     ]
    }
   ],
   "source": [
    "from ausi import d3\n",
    "\n",
    "d3.create_d3force(\n",
    "    deps,\n",
    "    \"jdeps_demo_output/dropover_d3forced\",\n",
    "    group_col_from=\"group_from\",\n",
    "    group_col_to=\"group_to\")"
   ]
  },
  {
   "cell_type": "code",
   "execution_count": 7,
   "metadata": {
    "slideshow": {
     "slide_type": "skip"
    }
   },
   "outputs": [
    {
     "name": "stdout",
     "output_type": "stream",
     "text": [
      "JSON file produced in '/c/dev/repos/sas2020mh/demos/jdeps_demo_output/dropover_semantic_substrate.json'\n",
      "HTML file produced in '/c/dev/repos/sas2020mh/demos/jdeps_demo_output/dropover_semantic_substrate.html'\n"
     ]
    }
   ],
   "source": [
    "d3.create_semantic_substrate(\n",
    "    deps,\n",
    "    \"jdeps_demo_output/dropover_semantic_substrate\")"
   ]
  },
  {
   "cell_type": "code",
   "execution_count": 8,
   "metadata": {
    "slideshow": {
     "slide_type": "skip"
    }
   },
   "outputs": [
    {
     "name": "stdout",
     "output_type": "stream",
     "text": [
      "JSON file produced in '/c/dev/repos/sas2020mh/demos/jdeps_demo_output/dropover_bundling.json'\n",
      "HTML file produced in '/c/dev/repos/sas2020mh/demos/jdeps_demo_output/dropover_bundling.html'\n"
     ]
    }
   ],
   "source": [
    "d3.create_hierarchical_edge_bundling(\n",
    "    deps,\n",
    "    \"jdeps_demo_output/dropover_bundling\")"
   ]
  }
 ],
 "metadata": {
  "kernelspec": {
   "display_name": "Python 3",
   "language": "python",
   "name": "python3"
  },
  "language_info": {
   "codemirror_mode": {
    "name": "ipython",
    "version": 3
   },
   "file_extension": ".py",
   "mimetype": "text/x-python",
   "name": "python",
   "nbconvert_exporter": "python",
   "pygments_lexer": "ipython3",
   "version": "3.8.3"
  }
 },
 "nbformat": 4,
 "nbformat_minor": 2
}
